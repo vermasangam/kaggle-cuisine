{
 "cells": [
  {
   "cell_type": "code",
   "execution_count": 447,
   "metadata": {},
   "outputs": [
    {
     "name": "stderr",
     "output_type": "stream",
     "text": [
      "/Users/sangam/anaconda3/lib/python3.6/site-packages/ipykernel_launcher.py:28: UserWarning: \n",
      "This call to matplotlib.use() has no effect because the backend has already\n",
      "been chosen; matplotlib.use() must be called *before* pylab, matplotlib.pyplot,\n",
      "or matplotlib.backends is imported for the first time.\n",
      "\n",
      "The backend was *originally* set to 'module://ipykernel.pylab.backend_inline' by the following code:\n",
      "  File \"/Users/sangam/anaconda3/lib/python3.6/runpy.py\", line 193, in _run_module_as_main\n",
      "    \"__main__\", mod_spec)\n",
      "  File \"/Users/sangam/anaconda3/lib/python3.6/runpy.py\", line 85, in _run_code\n",
      "    exec(code, run_globals)\n",
      "  File \"/Users/sangam/anaconda3/lib/python3.6/site-packages/ipykernel_launcher.py\", line 16, in <module>\n",
      "    app.launch_new_instance()\n",
      "  File \"/Users/sangam/anaconda3/lib/python3.6/site-packages/traitlets/config/application.py\", line 658, in launch_instance\n",
      "    app.start()\n",
      "  File \"/Users/sangam/anaconda3/lib/python3.6/site-packages/ipykernel/kernelapp.py\", line 486, in start\n",
      "    self.io_loop.start()\n",
      "  File \"/Users/sangam/anaconda3/lib/python3.6/site-packages/tornado/platform/asyncio.py\", line 127, in start\n",
      "    self.asyncio_loop.run_forever()\n",
      "  File \"/Users/sangam/anaconda3/lib/python3.6/asyncio/base_events.py\", line 422, in run_forever\n",
      "    self._run_once()\n",
      "  File \"/Users/sangam/anaconda3/lib/python3.6/asyncio/base_events.py\", line 1432, in _run_once\n",
      "    handle._run()\n",
      "  File \"/Users/sangam/anaconda3/lib/python3.6/asyncio/events.py\", line 145, in _run\n",
      "    self._callback(*self._args)\n",
      "  File \"/Users/sangam/anaconda3/lib/python3.6/site-packages/tornado/platform/asyncio.py\", line 117, in _handle_events\n",
      "    handler_func(fileobj, events)\n",
      "  File \"/Users/sangam/anaconda3/lib/python3.6/site-packages/tornado/stack_context.py\", line 276, in null_wrapper\n",
      "    return fn(*args, **kwargs)\n",
      "  File \"/Users/sangam/anaconda3/lib/python3.6/site-packages/zmq/eventloop/zmqstream.py\", line 450, in _handle_events\n",
      "    self._handle_recv()\n",
      "  File \"/Users/sangam/anaconda3/lib/python3.6/site-packages/zmq/eventloop/zmqstream.py\", line 480, in _handle_recv\n",
      "    self._run_callback(callback, msg)\n",
      "  File \"/Users/sangam/anaconda3/lib/python3.6/site-packages/zmq/eventloop/zmqstream.py\", line 432, in _run_callback\n",
      "    callback(*args, **kwargs)\n",
      "  File \"/Users/sangam/anaconda3/lib/python3.6/site-packages/tornado/stack_context.py\", line 276, in null_wrapper\n",
      "    return fn(*args, **kwargs)\n",
      "  File \"/Users/sangam/anaconda3/lib/python3.6/site-packages/ipykernel/kernelbase.py\", line 283, in dispatcher\n",
      "    return self.dispatch_shell(stream, msg)\n",
      "  File \"/Users/sangam/anaconda3/lib/python3.6/site-packages/ipykernel/kernelbase.py\", line 233, in dispatch_shell\n",
      "    handler(stream, idents, msg)\n",
      "  File \"/Users/sangam/anaconda3/lib/python3.6/site-packages/ipykernel/kernelbase.py\", line 399, in execute_request\n",
      "    user_expressions, allow_stdin)\n",
      "  File \"/Users/sangam/anaconda3/lib/python3.6/site-packages/ipykernel/ipkernel.py\", line 208, in do_execute\n",
      "    res = shell.run_cell(code, store_history=store_history, silent=silent)\n",
      "  File \"/Users/sangam/anaconda3/lib/python3.6/site-packages/ipykernel/zmqshell.py\", line 537, in run_cell\n",
      "    return super(ZMQInteractiveShell, self).run_cell(*args, **kwargs)\n",
      "  File \"/Users/sangam/anaconda3/lib/python3.6/site-packages/IPython/core/interactiveshell.py\", line 2666, in run_cell\n",
      "    self.events.trigger('post_run_cell', result)\n",
      "  File \"/Users/sangam/anaconda3/lib/python3.6/site-packages/IPython/core/events.py\", line 88, in trigger\n",
      "    func(*args, **kwargs)\n",
      "  File \"/Users/sangam/anaconda3/lib/python3.6/site-packages/ipykernel/pylab/backend_inline.py\", line 160, in configure_once\n",
      "    activate_matplotlib(backend)\n",
      "  File \"/Users/sangam/anaconda3/lib/python3.6/site-packages/IPython/core/pylabtools.py\", line 311, in activate_matplotlib\n",
      "    matplotlib.pyplot.switch_backend(backend)\n",
      "  File \"/Users/sangam/anaconda3/lib/python3.6/site-packages/matplotlib/pyplot.py\", line 231, in switch_backend\n",
      "    matplotlib.use(newbackend, warn=False, force=True)\n",
      "  File \"/Users/sangam/anaconda3/lib/python3.6/site-packages/matplotlib/__init__.py\", line 1410, in use\n",
      "    reload(sys.modules['matplotlib.backends'])\n",
      "  File \"/Users/sangam/anaconda3/lib/python3.6/importlib/__init__.py\", line 166, in reload\n",
      "    _bootstrap._exec(spec, module)\n",
      "  File \"/Users/sangam/anaconda3/lib/python3.6/site-packages/matplotlib/backends/__init__.py\", line 16, in <module>\n",
      "    line for line in traceback.format_stack()\n",
      "\n",
      "\n"
     ]
    }
   ],
   "source": [
    "import pandas as pd\n",
    "import numpy as np\n",
    "import sys\n",
    "import os\n",
    "import time\n",
    "import xgboost\n",
    "\n",
    "from sklearn.feature_extraction.text import CountVectorizer\n",
    "from sklearn.feature_extraction.text import CountVectorizer\n",
    "from sklearn.preprocessing import LabelEncoder\n",
    "from sklearn.linear_model import LogisticRegression\n",
    "from sklearn.svm import SVC\n",
    "from sklearn.ensemble import VotingClassifier\n",
    "from sklearn.ensemble import RandomForestClassifier\n",
    "from sklearn.model_selection import KFold\n",
    "from sklearn import model_selection \n",
    "import itertools\n",
    "import gc\n",
    "import pickle\n",
    "from datetime import datetime\n",
    "from sklearn.preprocessing import StandardScaler\n",
    "from sklearn.preprocessing import LabelEncoder\n",
    "from sklearn.ensemble import RandomForestRegressor\n",
    "import seaborn as sns\n",
    "import re\n",
    "from sklearn.model_selection import StratifiedKFold\n",
    "from matplotlib import use\n",
    "use(\"Agg\")\n",
    "import matplotlib.pyplot as plt\n",
    "import csv,argparse,os,shutil\n",
    "from sklearn.model_selection import GridSearchCV\n",
    "from sklearn import model_selection\n",
    "from sklearn.tree import export_graphviz\n",
    "import matplotlib.pyplot as plt\n",
    "import csv,argparse,os,shutil\n",
    "from sklearn.metrics import r2_score, roc_auc_score, accuracy_score\n",
    "from sklearn.model_selection import GridSearchCV, KFold"
   ]
  },
  {
   "cell_type": "code",
   "execution_count": 505,
   "metadata": {},
   "outputs": [],
   "source": [
    "def print_confusion_matrix(confusion_matrix, class_names, figsize = (10,7), fontsize=14):\n",
    "    \"\"\"Prints a confusion matrix, as returned by sklearn.metrics.confusion_matrix, as a heatmap.\n",
    "    \n",
    "    Arguments\n",
    "    ---------\n",
    "    confusion_matrix: numpy.ndarray\n",
    "        The numpy.ndarray object returned from a call to sklearn.metrics.confusion_matrix. \n",
    "        Similarly constructed ndarrays can also be used.\n",
    "    class_names: list\n",
    "        An ordered list of class names, in the order they index the given confusion matrix.\n",
    "    figsize: tuple\n",
    "        A 2-long tuple, the first value determining the horizontal size of the ouputted figure,\n",
    "        the second determining the vertical size. Defaults to (10,7).\n",
    "    fontsize: int\n",
    "        Font size for axes labels. Defaults to 14.\n",
    "        \n",
    "    Returns\n",
    "    -------\n",
    "    matplotlib.figure.Figure\n",
    "        The resulting confusion matrix figure\n",
    "    \"\"\"\n",
    "    df_cm = pd.DataFrame(\n",
    "        confusion_matrix, index=class_names, columns=class_names, \n",
    "    )\n",
    "    fig = plt.figure(figsize=figsize)\n",
    "    try:\n",
    "        heatmap = sns.heatmap(df_cm, annot=True, fmt=\"d\")\n",
    "    except ValueError:\n",
    "        raise ValueError(\"Confusion matrix values must be integers.\")\n",
    "    heatmap.yaxis.set_ticklabels(heatmap.yaxis.get_ticklabels(), rotation=0, ha='right', fontsize=fontsize)\n",
    "    heatmap.xaxis.set_ticklabels(heatmap.xaxis.get_ticklabels(), rotation=45, ha='right', fontsize=fontsize)\n",
    "    plt.ylabel('True label')\n",
    "    plt.xlabel('Predicted label')\n",
    "    return fig"
   ]
  },
  {
   "cell_type": "code",
   "execution_count": 448,
   "metadata": {},
   "outputs": [
    {
     "name": "stdout",
     "output_type": "stream",
     "text": [
      "Training Data Shape:  (39774, 2)\n",
      "Testing Data Shape:  (9944, 1)\n"
     ]
    }
   ],
   "source": [
    "df = pd.read_json('train.json').set_index('id')\n",
    "test_df = pd.read_json('test.json').set_index('id')\n",
    "label=df['cuisine']\n",
    "traindex = df.index\n",
    "testdex = test_df.index\n",
    "print(\"Training Data Shape: \",df.shape)\n",
    "print(\"Testing Data Shape: \", test_df.shape)\n",
    "master = pd.concat([df.drop(\"cuisine\", axis=1), test_df], axis=0)"
   ]
  },
  {
   "cell_type": "code",
   "execution_count": 449,
   "metadata": {},
   "outputs": [],
   "source": [
    "features = [] # list of list containg the recipes\n",
    "for item in df['ingredients']:\n",
    "    features.append(item)"
   ]
  },
  {
   "cell_type": "code",
   "execution_count": 450,
   "metadata": {},
   "outputs": [],
   "source": [
    "features_test = [] # list of lists containg the recipes\n",
    "for item in test_df['ingredients']:\n",
    "    features_test.append(item)"
   ]
  },
  {
   "cell_type": "code",
   "execution_count": 451,
   "metadata": {},
   "outputs": [],
   "source": [
    "features_processed= [] # here we will store the preprocessed training features\n",
    "for item in features:\n",
    "    newitem = []\n",
    "    for ingr in item:\n",
    "        ingr.lower() # Case Normalization - convert all to lower case \n",
    "        ingr = re.sub(\"[^a-zA-Z]\",\" \",ingr) # Remove punctuation, digits or special characters \n",
    "        ingr = re.sub((r'\\b(oz|ounc|ounce|pound|lb|inch|inches|kg|to)\\b'), ' ', ingr) # Remove different units  \n",
    "        newitem.append(ingr)\n",
    "    features_processed.append(newitem)\n",
    "\n",
    "# Test \n",
    "features_test_processed= [] \n",
    "for item in features_test:\n",
    "    newitem = []\n",
    "    for ingr in item:\n",
    "        ingr.lower() \n",
    "        ingr = re.sub(\"[^a-zA-Z]\",\" \",ingr)\n",
    "        ingr = re.sub((r'\\b(oz|ounc|ounce|pound|lb|inch|inches|kg|to)\\b'), ' ', ingr) \n",
    "        newitem.append(ingr)\n",
    "    features_test_processed.append(newitem) "
   ]
  },
  {
   "cell_type": "code",
   "execution_count": 452,
   "metadata": {},
   "outputs": [],
   "source": [
    "vectorizer = TfidfVectorizer(analyzer = \"word\",\n",
    "                             ngram_range = (1,1), # unigrams\n",
    "                             binary = True, #  (the default is counts)\n",
    "                             tokenizer = None,    \n",
    "                             preprocessor = None, \n",
    "                             stop_words = None,  \n",
    "                             max_df = 0.99)\n"
   ]
  },
  {
   "cell_type": "code",
   "execution_count": 453,
   "metadata": {},
   "outputs": [],
   "source": [
    "train_X = vectorizer.fit_transform([str(i) for i in features_processed])\n",
    "test_X =  vectorizer.transform([str(i) for i in features_test_processed])"
   ]
  },
  {
   "cell_type": "code",
   "execution_count": 454,
   "metadata": {},
   "outputs": [],
   "source": [
    "lb = LabelEncoder()\n",
    "train_Y = lb.fit_transform(label)"
   ]
  },
  {
   "cell_type": "code",
   "execution_count": 73,
   "metadata": {},
   "outputs": [
    {
     "name": "stdout",
     "output_type": "stream",
     "text": [
      "Fitting 3 folds for each of 5 candidates, totalling 15 fits\n",
      "[CV] subsample=1.0, min_child_weight=5, max_depth=5, gamma=1.5, colsample_bytree=0.6 \n",
      "[CV] subsample=1.0, min_child_weight=5, max_depth=5, gamma=1.5, colsample_bytree=0.6 \n",
      "[CV] subsample=1.0, min_child_weight=5, max_depth=5, gamma=1.5, colsample_bytree=0.6 \n",
      "[CV] subsample=1.0, min_child_weight=1, max_depth=7, gamma=1.5, colsample_bytree=0.6 \n"
     ]
    },
    {
     "name": "stderr",
     "output_type": "stream",
     "text": [
      "/Users/sangam/anaconda3/lib/python3.6/site-packages/sklearn/preprocessing/label.py:151: DeprecationWarning: The truth value of an empty array is ambiguous. Returning False, but in future this will result in an error. Use `array.size > 0` to check that an array is not empty.\n",
      "  if diff:\n",
      "/Users/sangam/anaconda3/lib/python3.6/site-packages/sklearn/preprocessing/label.py:151: DeprecationWarning: The truth value of an empty array is ambiguous. Returning False, but in future this will result in an error. Use `array.size > 0` to check that an array is not empty.\n",
      "  if diff:\n",
      "/Users/sangam/anaconda3/lib/python3.6/site-packages/sklearn/preprocessing/label.py:151: DeprecationWarning: The truth value of an empty array is ambiguous. Returning False, but in future this will result in an error. Use `array.size > 0` to check that an array is not empty.\n",
      "  if diff:\n",
      "/Users/sangam/anaconda3/lib/python3.6/site-packages/sklearn/preprocessing/label.py:151: DeprecationWarning: The truth value of an empty array is ambiguous. Returning False, but in future this will result in an error. Use `array.size > 0` to check that an array is not empty.\n",
      "  if diff:\n"
     ]
    },
    {
     "name": "stdout",
     "output_type": "stream",
     "text": [
      "[CV]  subsample=1.0, min_child_weight=5, max_depth=5, gamma=1.5, colsample_bytree=0.6, score=0.6944716796138471, total= 2.4min\n",
      "[CV] subsample=1.0, min_child_weight=1, max_depth=7, gamma=1.5, colsample_bytree=0.6 \n"
     ]
    },
    {
     "name": "stderr",
     "output_type": "stream",
     "text": [
      "/Users/sangam/anaconda3/lib/python3.6/site-packages/sklearn/preprocessing/label.py:151: DeprecationWarning: The truth value of an empty array is ambiguous. Returning False, but in future this will result in an error. Use `array.size > 0` to check that an array is not empty.\n",
      "  if diff:\n"
     ]
    },
    {
     "name": "stdout",
     "output_type": "stream",
     "text": [
      "[CV]  subsample=1.0, min_child_weight=5, max_depth=5, gamma=1.5, colsample_bytree=0.6, score=0.6928765469363115, total= 2.4min\n",
      "[CV] subsample=1.0, min_child_weight=1, max_depth=7, gamma=1.5, colsample_bytree=0.6 \n"
     ]
    },
    {
     "name": "stderr",
     "output_type": "stream",
     "text": [
      "/Users/sangam/anaconda3/lib/python3.6/site-packages/sklearn/preprocessing/label.py:151: DeprecationWarning: The truth value of an empty array is ambiguous. Returning False, but in future this will result in an error. Use `array.size > 0` to check that an array is not empty.\n",
      "  if diff:\n"
     ]
    },
    {
     "name": "stdout",
     "output_type": "stream",
     "text": [
      "[CV]  subsample=1.0, min_child_weight=5, max_depth=5, gamma=1.5, colsample_bytree=0.6, score=0.6953178014023976, total= 2.4min\n",
      "[CV] subsample=0.8, min_child_weight=5, max_depth=5, gamma=2, colsample_bytree=0.8 \n"
     ]
    },
    {
     "name": "stderr",
     "output_type": "stream",
     "text": [
      "/Users/sangam/anaconda3/lib/python3.6/site-packages/sklearn/preprocessing/label.py:151: DeprecationWarning: The truth value of an empty array is ambiguous. Returning False, but in future this will result in an error. Use `array.size > 0` to check that an array is not empty.\n",
      "  if diff:\n",
      "/Users/sangam/anaconda3/lib/python3.6/site-packages/sklearn/preprocessing/label.py:151: DeprecationWarning: The truth value of an empty array is ambiguous. Returning False, but in future this will result in an error. Use `array.size > 0` to check that an array is not empty.\n",
      "  if diff:\n"
     ]
    },
    {
     "name": "stdout",
     "output_type": "stream",
     "text": [
      "[CV]  subsample=1.0, min_child_weight=1, max_depth=7, gamma=1.5, colsample_bytree=0.6, score=0.7235919475231848, total= 3.5min\n",
      "[CV] subsample=0.8, min_child_weight=5, max_depth=5, gamma=2, colsample_bytree=0.8 \n"
     ]
    },
    {
     "name": "stderr",
     "output_type": "stream",
     "text": [
      "/Users/sangam/anaconda3/lib/python3.6/site-packages/sklearn/preprocessing/label.py:151: DeprecationWarning: The truth value of an empty array is ambiguous. Returning False, but in future this will result in an error. Use `array.size > 0` to check that an array is not empty.\n",
      "  if diff:\n",
      "/Users/sangam/anaconda3/lib/python3.6/site-packages/sklearn/preprocessing/label.py:151: DeprecationWarning: The truth value of an empty array is ambiguous. Returning False, but in future this will result in an error. Use `array.size > 0` to check that an array is not empty.\n",
      "  if diff:\n"
     ]
    },
    {
     "name": "stdout",
     "output_type": "stream",
     "text": [
      "[CV]  subsample=0.8, min_child_weight=5, max_depth=5, gamma=2, colsample_bytree=0.8, score=0.6838573475081052, total= 2.8min\n",
      "[CV] subsample=0.8, min_child_weight=5, max_depth=5, gamma=2, colsample_bytree=0.8 \n"
     ]
    },
    {
     "name": "stderr",
     "output_type": "stream",
     "text": [
      "/Users/sangam/anaconda3/lib/python3.6/site-packages/sklearn/preprocessing/label.py:151: DeprecationWarning: The truth value of an empty array is ambiguous. Returning False, but in future this will result in an error. Use `array.size > 0` to check that an array is not empty.\n",
      "  if diff:\n",
      "/Users/sangam/anaconda3/lib/python3.6/site-packages/sklearn/preprocessing/label.py:151: DeprecationWarning: The truth value of an empty array is ambiguous. Returning False, but in future this will result in an error. Use `array.size > 0` to check that an array is not empty.\n",
      "  if diff:\n",
      "/Users/sangam/anaconda3/lib/python3.6/site-packages/sklearn/preprocessing/label.py:151: DeprecationWarning: The truth value of an empty array is ambiguous. Returning False, but in future this will result in an error. Use `array.size > 0` to check that an array is not empty.\n",
      "  if diff:\n"
     ]
    },
    {
     "name": "stdout",
     "output_type": "stream",
     "text": [
      "[CV]  subsample=1.0, min_child_weight=1, max_depth=7, gamma=1.5, colsample_bytree=0.6, score=0.729315936345124, total= 3.4min\n",
      "[CV] subsample=1.0, min_child_weight=5, max_depth=5, gamma=2, colsample_bytree=0.8 \n"
     ]
    },
    {
     "name": "stderr",
     "output_type": "stream",
     "text": [
      "/Users/sangam/anaconda3/lib/python3.6/site-packages/sklearn/preprocessing/label.py:151: DeprecationWarning: The truth value of an empty array is ambiguous. Returning False, but in future this will result in an error. Use `array.size > 0` to check that an array is not empty.\n",
      "  if diff:\n"
     ]
    },
    {
     "name": "stdout",
     "output_type": "stream",
     "text": [
      "[CV]  subsample=1.0, min_child_weight=1, max_depth=7, gamma=1.5, colsample_bytree=0.6, score=0.7219287654693631, total= 3.5min\n",
      "[CV] subsample=1.0, min_child_weight=5, max_depth=5, gamma=2, colsample_bytree=0.8 \n"
     ]
    },
    {
     "name": "stderr",
     "output_type": "stream",
     "text": [
      "/Users/sangam/anaconda3/lib/python3.6/site-packages/sklearn/preprocessing/label.py:151: DeprecationWarning: The truth value of an empty array is ambiguous. Returning False, but in future this will result in an error. Use `array.size > 0` to check that an array is not empty.\n",
      "  if diff:\n",
      "/Users/sangam/anaconda3/lib/python3.6/site-packages/sklearn/preprocessing/label.py:151: DeprecationWarning: The truth value of an empty array is ambiguous. Returning False, but in future this will result in an error. Use `array.size > 0` to check that an array is not empty.\n",
      "  if diff:\n"
     ]
    },
    {
     "name": "stdout",
     "output_type": "stream",
     "text": [
      "[CV]  subsample=0.8, min_child_weight=5, max_depth=5, gamma=2, colsample_bytree=0.8, score=0.687306735047892, total= 2.8min\n",
      "[CV] subsample=1.0, min_child_weight=5, max_depth=5, gamma=2, colsample_bytree=0.8 \n"
     ]
    },
    {
     "name": "stderr",
     "output_type": "stream",
     "text": [
      "/Users/sangam/anaconda3/lib/python3.6/site-packages/sklearn/preprocessing/label.py:151: DeprecationWarning: The truth value of an empty array is ambiguous. Returning False, but in future this will result in an error. Use `array.size > 0` to check that an array is not empty.\n",
      "  if diff:\n",
      "/Users/sangam/anaconda3/lib/python3.6/site-packages/sklearn/preprocessing/label.py:151: DeprecationWarning: The truth value of an empty array is ambiguous. Returning False, but in future this will result in an error. Use `array.size > 0` to check that an array is not empty.\n",
      "  if diff:\n"
     ]
    },
    {
     "name": "stdout",
     "output_type": "stream",
     "text": [
      "[CV]  subsample=0.8, min_child_weight=5, max_depth=5, gamma=2, colsample_bytree=0.8, score=0.6879716269242379, total= 2.9min\n",
      "[CV] subsample=0.8, min_child_weight=5, max_depth=5, gamma=2, colsample_bytree=0.6 \n"
     ]
    },
    {
     "name": "stderr",
     "output_type": "stream",
     "text": [
      "/Users/sangam/anaconda3/lib/python3.6/site-packages/sklearn/preprocessing/label.py:151: DeprecationWarning: The truth value of an empty array is ambiguous. Returning False, but in future this will result in an error. Use `array.size > 0` to check that an array is not empty.\n",
      "  if diff:\n",
      "/Users/sangam/anaconda3/lib/python3.6/site-packages/sklearn/preprocessing/label.py:151: DeprecationWarning: The truth value of an empty array is ambiguous. Returning False, but in future this will result in an error. Use `array.size > 0` to check that an array is not empty.\n",
      "  if diff:\n",
      "/Users/sangam/anaconda3/lib/python3.6/site-packages/sklearn/preprocessing/label.py:151: DeprecationWarning: The truth value of an empty array is ambiguous. Returning False, but in future this will result in an error. Use `array.size > 0` to check that an array is not empty.\n",
      "  if diff:\n"
     ]
    },
    {
     "name": "stdout",
     "output_type": "stream",
     "text": [
      "[CV]  subsample=1.0, min_child_weight=5, max_depth=5, gamma=2, colsample_bytree=0.8, score=0.6879100988008146, total= 3.2min\n",
      "[CV] subsample=0.8, min_child_weight=5, max_depth=5, gamma=2, colsample_bytree=0.6 \n"
     ]
    },
    {
     "name": "stderr",
     "output_type": "stream",
     "text": [
      "/Users/sangam/anaconda3/lib/python3.6/site-packages/sklearn/preprocessing/label.py:151: DeprecationWarning: The truth value of an empty array is ambiguous. Returning False, but in future this will result in an error. Use `array.size > 0` to check that an array is not empty.\n",
      "  if diff:\n"
     ]
    },
    {
     "name": "stdout",
     "output_type": "stream",
     "text": [
      "[CV]  subsample=1.0, min_child_weight=5, max_depth=5, gamma=2, colsample_bytree=0.8, score=0.6882304154414537, total= 3.2min\n",
      "[CV] subsample=0.8, min_child_weight=5, max_depth=5, gamma=2, colsample_bytree=0.6 \n"
     ]
    },
    {
     "name": "stderr",
     "output_type": "stream",
     "text": [
      "/Users/sangam/anaconda3/lib/python3.6/site-packages/sklearn/preprocessing/label.py:151: DeprecationWarning: The truth value of an empty array is ambiguous. Returning False, but in future this will result in an error. Use `array.size > 0` to check that an array is not empty.\n",
      "  if diff:\n",
      "/Users/sangam/anaconda3/lib/python3.6/site-packages/sklearn/preprocessing/label.py:151: DeprecationWarning: The truth value of an empty array is ambiguous. Returning False, but in future this will result in an error. Use `array.size > 0` to check that an array is not empty.\n",
      "  if diff:\n"
     ]
    },
    {
     "name": "stdout",
     "output_type": "stream",
     "text": [
      "[CV]  subsample=1.0, min_child_weight=5, max_depth=5, gamma=2, colsample_bytree=0.8, score=0.6876697856927256, total= 3.2min\n"
     ]
    },
    {
     "name": "stderr",
     "output_type": "stream",
     "text": [
      "/Users/sangam/anaconda3/lib/python3.6/site-packages/sklearn/preprocessing/label.py:151: DeprecationWarning: The truth value of an empty array is ambiguous. Returning False, but in future this will result in an error. Use `array.size > 0` to check that an array is not empty.\n",
      "  if diff:\n",
      "/Users/sangam/anaconda3/lib/python3.6/site-packages/sklearn/preprocessing/label.py:151: DeprecationWarning: The truth value of an empty array is ambiguous. Returning False, but in future this will result in an error. Use `array.size > 0` to check that an array is not empty.\n",
      "  if diff:\n"
     ]
    },
    {
     "name": "stdout",
     "output_type": "stream",
     "text": [
      "[CV]  subsample=0.8, min_child_weight=5, max_depth=5, gamma=2, colsample_bytree=0.6, score=0.6897383699012289, total= 2.2min\n"
     ]
    },
    {
     "name": "stderr",
     "output_type": "stream",
     "text": [
      "/Users/sangam/anaconda3/lib/python3.6/site-packages/sklearn/preprocessing/label.py:151: DeprecationWarning: The truth value of an empty array is ambiguous. Returning False, but in future this will result in an error. Use `array.size > 0` to check that an array is not empty.\n",
      "  if diff:\n",
      "/Users/sangam/anaconda3/lib/python3.6/site-packages/sklearn/preprocessing/label.py:151: DeprecationWarning: The truth value of an empty array is ambiguous. Returning False, but in future this will result in an error. Use `array.size > 0` to check that an array is not empty.\n",
      "  if diff:\n",
      "/Users/sangam/anaconda3/lib/python3.6/site-packages/sklearn/preprocessing/label.py:151: DeprecationWarning: The truth value of an empty array is ambiguous. Returning False, but in future this will result in an error. Use `array.size > 0` to check that an array is not empty.\n",
      "  if diff:\n"
     ]
    },
    {
     "name": "stdout",
     "output_type": "stream",
     "text": [
      "[CV]  subsample=0.8, min_child_weight=5, max_depth=5, gamma=2, colsample_bytree=0.6, score=0.6907760766271966, total= 2.1min\n"
     ]
    },
    {
     "name": "stderr",
     "output_type": "stream",
     "text": [
      "/Users/sangam/anaconda3/lib/python3.6/site-packages/sklearn/preprocessing/label.py:151: DeprecationWarning: The truth value of an empty array is ambiguous. Returning False, but in future this will result in an error. Use `array.size > 0` to check that an array is not empty.\n",
      "  if diff:\n"
     ]
    },
    {
     "name": "stdout",
     "output_type": "stream",
     "text": [
      "[CV]  subsample=0.8, min_child_weight=5, max_depth=5, gamma=2, colsample_bytree=0.6, score=0.6904618170842137, total= 2.1min\n"
     ]
    },
    {
     "name": "stderr",
     "output_type": "stream",
     "text": [
      "[Parallel(n_jobs=4)]: Done  15 out of  15 | elapsed: 11.5min finished\n"
     ]
    },
    {
     "data": {
      "text/plain": [
       "RandomizedSearchCV(cv=<generator object _BaseKFold.split at 0x1a1817d0a0>,\n",
       "          error_score='raise',\n",
       "          estimator=XGBClassifier(base_score=0.5, booster='gbtree', colsample_bylevel=1,\n",
       "       colsample_bytree=1, eval_metrix='merror', gamma=0,\n",
       "       learning_rate=0.02, max_delta_step=0, max_depth=3,\n",
       "       min_child_weight=1, missing=None, n_estimators=100, n_jobs=1,\n",
       "       nthread=None, num_class=20, objective='multi:softmax',\n",
       "       random_state=0, reg_alpha=0, reg_lambda=1, scale_pos_weight=1,\n",
       "       seed=None, silent=True, subsample=1),\n",
       "          fit_params=None, iid=True, n_iter=5, n_jobs=4,\n",
       "          param_distributions={'min_child_weight': [1, 5, 10], 'gamma': [1.5, 2, 5], 'subsample': [0.8, 1.0], 'colsample_bytree': [0.6, 0.8], 'max_depth': [5, 7, 10]},\n",
       "          pre_dispatch='2*n_jobs', random_state=1001, refit=True,\n",
       "          return_train_score='warn', scoring='accuracy', verbose=3)"
      ]
     },
     "execution_count": 73,
     "metadata": {},
     "output_type": "execute_result"
    }
   ],
   "source": [
    "\n",
    "from threading import Timer\n",
    "\n",
    "from sklearn.model_selection import RandomizedSearchCV\n",
    "params = {\n",
    "        'min_child_weight': [1, 5, 10],\n",
    "        'gamma': [1.5, 2, 5],\n",
    "        'subsample': [0.8, 1.0],\n",
    "        'colsample_bytree': [0.6, 0.8],\n",
    "        'max_depth': [5,7,10]\n",
    "        }\n",
    "xgb = xgb.XGBClassifier(learning_rate=0.02, n_estimators=100, objective='multi:softmax',\n",
    "                    silent=True, eval_metrix='merror',num_class=20)\n",
    "folds = 3\n",
    "param_comb = 5\n",
    "\n",
    "skf = StratifiedKFold(n_splits=folds, shuffle = True, random_state = 1001)\n",
    "\n",
    "random_search = RandomizedSearchCV(xgb, param_distributions=params, n_iter=param_comb, scoring='accuracy', n_jobs=4, cv=skf.split(train_X,train_Y), verbose=3, random_state=1001 )\n",
    "random_search.fit(train_X, train_Y)"
   ]
  },
  {
   "cell_type": "code",
   "execution_count": 134,
   "metadata": {},
   "outputs": [
    {
     "name": "stderr",
     "output_type": "stream",
     "text": [
      "/Users/sangam/anaconda3/lib/python3.6/site-packages/sklearn/utils/deprecation.py:122: FutureWarning: You are accessing a training score ('split0_train_score'), which will not be available by default any more in 0.21. If you need training scores, please set return_train_score=True\n",
      "  warnings.warn(*warn_args, **warn_kwargs)\n",
      "/Users/sangam/anaconda3/lib/python3.6/site-packages/sklearn/utils/deprecation.py:122: FutureWarning: You are accessing a training score ('split1_train_score'), which will not be available by default any more in 0.21. If you need training scores, please set return_train_score=True\n",
      "  warnings.warn(*warn_args, **warn_kwargs)\n",
      "/Users/sangam/anaconda3/lib/python3.6/site-packages/sklearn/utils/deprecation.py:122: FutureWarning: You are accessing a training score ('split2_train_score'), which will not be available by default any more in 0.21. If you need training scores, please set return_train_score=True\n",
      "  warnings.warn(*warn_args, **warn_kwargs)\n",
      "/Users/sangam/anaconda3/lib/python3.6/site-packages/sklearn/utils/deprecation.py:122: FutureWarning: You are accessing a training score ('mean_train_score'), which will not be available by default any more in 0.21. If you need training scores, please set return_train_score=True\n",
      "  warnings.warn(*warn_args, **warn_kwargs)\n",
      "/Users/sangam/anaconda3/lib/python3.6/site-packages/sklearn/utils/deprecation.py:122: FutureWarning: You are accessing a training score ('std_train_score'), which will not be available by default any more in 0.21. If you need training scores, please set return_train_score=True\n",
      "  warnings.warn(*warn_args, **warn_kwargs)\n"
     ]
    },
    {
     "data": {
      "text/html": [
       "<div>\n",
       "<style scoped>\n",
       "    .dataframe tbody tr th:only-of-type {\n",
       "        vertical-align: middle;\n",
       "    }\n",
       "\n",
       "    .dataframe tbody tr th {\n",
       "        vertical-align: top;\n",
       "    }\n",
       "\n",
       "    .dataframe thead th {\n",
       "        text-align: right;\n",
       "    }\n",
       "</style>\n",
       "<table border=\"1\" class=\"dataframe\">\n",
       "  <thead>\n",
       "    <tr style=\"text-align: right;\">\n",
       "      <th></th>\n",
       "      <th>mean_fit_time</th>\n",
       "      <th>std_fit_time</th>\n",
       "      <th>mean_score_time</th>\n",
       "      <th>std_score_time</th>\n",
       "      <th>param_kernel</th>\n",
       "      <th>param_gamma</th>\n",
       "      <th>param_C</th>\n",
       "      <th>params</th>\n",
       "      <th>split0_test_score</th>\n",
       "      <th>split1_test_score</th>\n",
       "      <th>split2_test_score</th>\n",
       "      <th>mean_test_score</th>\n",
       "      <th>std_test_score</th>\n",
       "      <th>rank_test_score</th>\n",
       "      <th>split0_train_score</th>\n",
       "      <th>split1_train_score</th>\n",
       "      <th>split2_train_score</th>\n",
       "      <th>mean_train_score</th>\n",
       "      <th>std_train_score</th>\n",
       "    </tr>\n",
       "  </thead>\n",
       "  <tbody>\n",
       "    <tr>\n",
       "      <th>0</th>\n",
       "      <td>188.466825</td>\n",
       "      <td>0.389708</td>\n",
       "      <td>63.254159</td>\n",
       "      <td>0.053980</td>\n",
       "      <td>rbf</td>\n",
       "      <td>0.001</td>\n",
       "      <td>1</td>\n",
       "      <td>{'kernel': 'rbf', 'gamma': 0.001, 'C': 1}</td>\n",
       "      <td>0.231923</td>\n",
       "      <td>0.232069</td>\n",
       "      <td>0.235210</td>\n",
       "      <td>0.233067</td>\n",
       "      <td>0.001516</td>\n",
       "      <td>5</td>\n",
       "      <td>0.232092</td>\n",
       "      <td>0.233604</td>\n",
       "      <td>0.233730</td>\n",
       "      <td>0.233142</td>\n",
       "      <td>0.000744</td>\n",
       "    </tr>\n",
       "    <tr>\n",
       "      <th>1</th>\n",
       "      <td>65.526892</td>\n",
       "      <td>1.090659</td>\n",
       "      <td>31.039260</td>\n",
       "      <td>0.391263</td>\n",
       "      <td>linear</td>\n",
       "      <td>0.0001</td>\n",
       "      <td>100</td>\n",
       "      <td>{'kernel': 'linear', 'gamma': 0.0001, 'C': 100}</td>\n",
       "      <td>0.739048</td>\n",
       "      <td>0.732710</td>\n",
       "      <td>0.743209</td>\n",
       "      <td>0.738322</td>\n",
       "      <td>0.004316</td>\n",
       "      <td>3</td>\n",
       "      <td>0.974841</td>\n",
       "      <td>0.975599</td>\n",
       "      <td>0.974889</td>\n",
       "      <td>0.975109</td>\n",
       "      <td>0.000347</td>\n",
       "    </tr>\n",
       "    <tr>\n",
       "      <th>2</th>\n",
       "      <td>57.097391</td>\n",
       "      <td>0.109731</td>\n",
       "      <td>33.739069</td>\n",
       "      <td>0.048951</td>\n",
       "      <td>linear</td>\n",
       "      <td>0.001</td>\n",
       "      <td>1</td>\n",
       "      <td>{'kernel': 'linear', 'gamma': 0.001, 'C': 1}</td>\n",
       "      <td>0.786700</td>\n",
       "      <td>0.783619</td>\n",
       "      <td>0.783504</td>\n",
       "      <td>0.784608</td>\n",
       "      <td>0.001480</td>\n",
       "      <td>1</td>\n",
       "      <td>0.851232</td>\n",
       "      <td>0.852461</td>\n",
       "      <td>0.853970</td>\n",
       "      <td>0.852554</td>\n",
       "      <td>0.001120</td>\n",
       "    </tr>\n",
       "    <tr>\n",
       "      <th>3</th>\n",
       "      <td>57.128737</td>\n",
       "      <td>0.103506</td>\n",
       "      <td>33.284195</td>\n",
       "      <td>0.028240</td>\n",
       "      <td>linear</td>\n",
       "      <td>0.0001</td>\n",
       "      <td>1</td>\n",
       "      <td>{'kernel': 'linear', 'gamma': 0.0001, 'C': 1}</td>\n",
       "      <td>0.786700</td>\n",
       "      <td>0.783619</td>\n",
       "      <td>0.783504</td>\n",
       "      <td>0.784608</td>\n",
       "      <td>0.001480</td>\n",
       "      <td>1</td>\n",
       "      <td>0.851232</td>\n",
       "      <td>0.852461</td>\n",
       "      <td>0.853970</td>\n",
       "      <td>0.852554</td>\n",
       "      <td>0.001120</td>\n",
       "    </tr>\n",
       "    <tr>\n",
       "      <th>4</th>\n",
       "      <td>184.394901</td>\n",
       "      <td>2.184468</td>\n",
       "      <td>62.027835</td>\n",
       "      <td>0.352231</td>\n",
       "      <td>rbf</td>\n",
       "      <td>0.0001</td>\n",
       "      <td>10</td>\n",
       "      <td>{'kernel': 'rbf', 'gamma': 0.0001, 'C': 10}</td>\n",
       "      <td>0.232225</td>\n",
       "      <td>0.232672</td>\n",
       "      <td>0.235587</td>\n",
       "      <td>0.233494</td>\n",
       "      <td>0.001491</td>\n",
       "      <td>4</td>\n",
       "      <td>0.232545</td>\n",
       "      <td>0.233943</td>\n",
       "      <td>0.233957</td>\n",
       "      <td>0.233482</td>\n",
       "      <td>0.000662</td>\n",
       "    </tr>\n",
       "  </tbody>\n",
       "</table>\n",
       "</div>"
      ],
      "text/plain": [
       "   mean_fit_time  std_fit_time  mean_score_time  std_score_time param_kernel  \\\n",
       "0     188.466825      0.389708        63.254159        0.053980          rbf   \n",
       "1      65.526892      1.090659        31.039260        0.391263       linear   \n",
       "2      57.097391      0.109731        33.739069        0.048951       linear   \n",
       "3      57.128737      0.103506        33.284195        0.028240       linear   \n",
       "4     184.394901      2.184468        62.027835        0.352231          rbf   \n",
       "\n",
       "  param_gamma param_C                                           params  \\\n",
       "0       0.001       1        {'kernel': 'rbf', 'gamma': 0.001, 'C': 1}   \n",
       "1      0.0001     100  {'kernel': 'linear', 'gamma': 0.0001, 'C': 100}   \n",
       "2       0.001       1     {'kernel': 'linear', 'gamma': 0.001, 'C': 1}   \n",
       "3      0.0001       1    {'kernel': 'linear', 'gamma': 0.0001, 'C': 1}   \n",
       "4      0.0001      10      {'kernel': 'rbf', 'gamma': 0.0001, 'C': 10}   \n",
       "\n",
       "   split0_test_score  split1_test_score  split2_test_score  mean_test_score  \\\n",
       "0           0.231923           0.232069           0.235210         0.233067   \n",
       "1           0.739048           0.732710           0.743209         0.738322   \n",
       "2           0.786700           0.783619           0.783504         0.784608   \n",
       "3           0.786700           0.783619           0.783504         0.784608   \n",
       "4           0.232225           0.232672           0.235587         0.233494   \n",
       "\n",
       "   std_test_score  rank_test_score  split0_train_score  split1_train_score  \\\n",
       "0        0.001516                5            0.232092            0.233604   \n",
       "1        0.004316                3            0.974841            0.975599   \n",
       "2        0.001480                1            0.851232            0.852461   \n",
       "3        0.001480                1            0.851232            0.852461   \n",
       "4        0.001491                4            0.232545            0.233943   \n",
       "\n",
       "   split2_train_score  mean_train_score  std_train_score  \n",
       "0            0.233730          0.233142         0.000744  \n",
       "1            0.974889          0.975109         0.000347  \n",
       "2            0.853970          0.852554         0.001120  \n",
       "3            0.853970          0.852554         0.001120  \n",
       "4            0.233957          0.233482         0.000662  "
      ]
     },
     "execution_count": 134,
     "metadata": {},
     "output_type": "execute_result"
    }
   ],
   "source": [
    "results = pd.DataFrame(random_search.cv_results_)\n",
    "results\n"
   ]
  },
  {
   "cell_type": "code",
   "execution_count": 106,
   "metadata": {},
   "outputs": [
    {
     "name": "stderr",
     "output_type": "stream",
     "text": [
      "/Users/sangam/anaconda3/lib/python3.6/site-packages/sklearn/preprocessing/label.py:151: DeprecationWarning: The truth value of an empty array is ambiguous. Returning False, but in future this will result in an error. Use `array.size > 0` to check that an array is not empty.\n",
      "  if diff:\n",
      "/Users/sangam/anaconda3/lib/python3.6/site-packages/sklearn/preprocessing/label.py:151: DeprecationWarning: The truth value of an empty array is ambiguous. Returning False, but in future this will result in an error. Use `array.size > 0` to check that an array is not empty.\n",
      "  if diff:\n"
     ]
    },
    {
     "name": "stdout",
     "output_type": "stream",
     "text": [
      "Accuracy : 0.7009\n",
      "Accuracy : 0.6792\n"
     ]
    },
    {
     "name": "stderr",
     "output_type": "stream",
     "text": [
      "/Users/sangam/anaconda3/lib/python3.6/site-packages/sklearn/preprocessing/label.py:151: DeprecationWarning: The truth value of an empty array is ambiguous. Returning False, but in future this will result in an error. Use `array.size > 0` to check that an array is not empty.\n",
      "  if diff:\n",
      "/Users/sangam/anaconda3/lib/python3.6/site-packages/sklearn/preprocessing/label.py:151: DeprecationWarning: The truth value of an empty array is ambiguous. Returning False, but in future this will result in an error. Use `array.size > 0` to check that an array is not empty.\n",
      "  if diff:\n"
     ]
    },
    {
     "name": "stdout",
     "output_type": "stream",
     "text": [
      "Accuracy : 0.7016\n",
      "Accuracy : 0.6794\n"
     ]
    },
    {
     "name": "stderr",
     "output_type": "stream",
     "text": [
      "/Users/sangam/anaconda3/lib/python3.6/site-packages/sklearn/preprocessing/label.py:151: DeprecationWarning: The truth value of an empty array is ambiguous. Returning False, but in future this will result in an error. Use `array.size > 0` to check that an array is not empty.\n",
      "  if diff:\n"
     ]
    },
    {
     "name": "stdout",
     "output_type": "stream",
     "text": [
      "Accuracy : 0.703\n",
      "Accuracy : 0.6836\n"
     ]
    },
    {
     "name": "stderr",
     "output_type": "stream",
     "text": [
      "/Users/sangam/anaconda3/lib/python3.6/site-packages/sklearn/preprocessing/label.py:151: DeprecationWarning: The truth value of an empty array is ambiguous. Returning False, but in future this will result in an error. Use `array.size > 0` to check that an array is not empty.\n",
      "  if diff:\n"
     ]
    }
   ],
   "source": [
    "model = xgboost.XGBClassifier(base_score=0.5, booster='gbtree', colsample_bylevel=1,\n",
    "       colsample_bytree=0.8, eval_metrix='merror', gamma=1.5,\n",
    "       learning_rate=0.02, max_delta_step=0, max_depth=5,\n",
    "       min_child_weight=1, missing=None, n_estimators=50, n_jobs=1,\n",
    "       nthread=None, num_class=20, objective='multi:softprob',\n",
    "       random_state=0, reg_alpha=0, reg_lambda=1, scale_pos_weight=1,\n",
    "       seed=None, silent=True, subsample=0.6)\n",
    "\n",
    "folds = 3\n",
    "\n",
    "skf = StratifiedKFold(n_splits=folds, shuffle = True, random_state = 1001)\n",
    "\n",
    "for train_index, test_index in skf.split(train_X, train_Y):\n",
    "    X_train, X_test = train_X[train_index], train_X[test_index]\n",
    "    y_train, y_test = train_Y[train_index], train_Y[test_index]\n",
    "    model.fit(X_train,y_train)\n",
    "    train_pred = model.predict(X_train)\n",
    "    test_pred = model.predict(X_test)\n",
    "    \n",
    "    print (\"Accuracy : %.4g\" % accuracy_score(y_train,train_pred))\n",
    "    print (\"Accuracy : %.4g\" % accuracy_score(y_test,test_pred))"
   ]
  },
  {
   "cell_type": "code",
   "execution_count": 170,
   "metadata": {},
   "outputs": [
    {
     "name": "stdout",
     "output_type": "stream",
     "text": [
      "Fitting 3 folds for each of 5 candidates, totalling 15 fits\n",
      "[CV] penalty=l2, fit_intercept=True, C=1 .............................\n",
      "[CV] penalty=l2, fit_intercept=True, C=1 .............................\n",
      "[CV] penalty=l2, fit_intercept=True, C=1 .............................\n",
      "[CV] penalty=l2, fit_intercept=False, C=100 ..........................\n",
      "[CV]  penalty=l2, fit_intercept=True, C=1, score=0.7741911154687382, total=   4.8s\n",
      "[CV] penalty=l2, fit_intercept=False, C=100 ..........................\n",
      "[CV]  penalty=l2, fit_intercept=True, C=1, score=0.777576717183141, total=   4.9s\n",
      "[CV] penalty=l2, fit_intercept=False, C=100 ..........................\n",
      "[CV]  penalty=l2, fit_intercept=True, C=1, score=0.7709779655900996, total=   4.9s\n",
      "[CV] penalty=l1, fit_intercept=False, C=10 ...........................\n",
      "[CV]  penalty=l2, fit_intercept=False, C=100, score=0.773731433310714, total=  13.1s\n",
      "[CV] penalty=l1, fit_intercept=False, C=10 ...........................\n",
      "[CV]  penalty=l2, fit_intercept=False, C=100, score=0.7662239661937821, total=  12.4s\n",
      "[CV] penalty=l1, fit_intercept=False, C=10 ...........................\n",
      "[CV]  penalty=l2, fit_intercept=False, C=100, score=0.7651406591749, total=  12.9s\n",
      "[CV] penalty=l1, fit_intercept=False, C=1 ............................\n",
      "[CV]  penalty=l1, fit_intercept=False, C=10, score=0.7819497851164895, total=  15.1s\n",
      "[CV] penalty=l1, fit_intercept=False, C=1 ............................\n",
      "[CV]  penalty=l1, fit_intercept=False, C=1, score=0.7799894443187816, total=   4.6s\n",
      "[CV] penalty=l1, fit_intercept=False, C=1 ............................\n",
      "[CV]  penalty=l1, fit_intercept=False, C=1, score=0.7774341956406969, total=   4.4s\n",
      "[CV] penalty=l2, fit_intercept=False, C=10 ...........................\n",
      "[CV]  penalty=l1, fit_intercept=False, C=1, score=0.7770147902203441, total=   4.6s\n",
      "[CV] penalty=l2, fit_intercept=False, C=10 ...........................\n",
      "[CV]  penalty=l1, fit_intercept=False, C=10, score=0.7717776604570481, total=  14.9s\n",
      "[CV] penalty=l2, fit_intercept=False, C=10 ...........................\n",
      "[CV]  penalty=l2, fit_intercept=False, C=10, score=0.7941642162406696, total=   7.2s\n",
      "[CV]  penalty=l1, fit_intercept=False, C=10, score=0.7737699969815877, total=  14.9s\n",
      "[CV]  penalty=l2, fit_intercept=False, C=10, score=0.7836940945772682, total=   7.2s\n",
      "[CV]  penalty=l2, fit_intercept=False, C=10, score=0.7842589797766375, total=   6.9s\n"
     ]
    },
    {
     "name": "stderr",
     "output_type": "stream",
     "text": [
      "[Parallel(n_jobs=4)]: Done  15 out of  15 | elapsed:   35.2s finished\n"
     ]
    },
    {
     "data": {
      "text/plain": [
       "RandomizedSearchCV(cv=<generator object _BaseKFold.split at 0x1b898c4ca8>,\n",
       "          error_score='raise',\n",
       "          estimator=LogisticRegression(C=1.0, class_weight=None, dual=False, fit_intercept=True,\n",
       "          intercept_scaling=1, max_iter=100, multi_class='ovr', n_jobs=1,\n",
       "          penalty='l2', random_state=42, solver='liblinear', tol=0.0001,\n",
       "          verbose=0, warm_start=False),\n",
       "          fit_params=None, iid=True, n_iter=5, n_jobs=4,\n",
       "          param_distributions={'C': [1, 10, 100], 'fit_intercept': ['True', 'False'], 'penalty': ['l1', 'l2']},\n",
       "          pre_dispatch='2*n_jobs', random_state=1001, refit=True,\n",
       "          return_train_score='warn', scoring='accuracy', verbose=3)"
      ]
     },
     "execution_count": 170,
     "metadata": {},
     "output_type": "execute_result"
    }
   ],
   "source": [
    "\n",
    "param_grid = {\n",
    "  'C': [1, 10, 100], \n",
    "  'fit_intercept': ['True','False'],\n",
    "    'penalty' : ['l1','l2']\n",
    "    }\n",
    "model=LogisticRegression(random_state = 42)\n",
    "\n",
    "folds = 3\n",
    "param_comb = 5\n",
    "\n",
    "skf = StratifiedKFold(n_splits=folds, shuffle = True, random_state = 1001)\n",
    "\n",
    "random_search = RandomizedSearchCV(model, param_distributions=param_grid, n_iter=param_comb, scoring='accuracy', n_jobs=4, cv=skf.split(train_X,train_Y), verbose=3, random_state=1001 )\n",
    "random_search.fit(train_X, train_Y)\n"
   ]
  },
  {
   "cell_type": "code",
   "execution_count": 201,
   "metadata": {},
   "outputs": [
    {
     "name": "stdout",
     "output_type": "stream",
     "text": [
      "Accuracy : 0.9998\n",
      "Accuracy : 0.8189\n",
      "Accuracy : 0.9996\n",
      "Accuracy : 0.808\n",
      "Accuracy : 0.9997\n",
      "Accuracy : 0.8118\n"
     ]
    }
   ],
   "source": [
    "from sklearn.ensemble import VotingClassifier\n",
    "from sklearn.multiclass import OneVsRestClassifier\n",
    "\n",
    "#vclf=VotingClassifier(estimators=[('clf1',LogisticRegression(C=5,penalty='l2',random_state = 42)),\n",
    "#                                  ('clf2',SVC(kernel='linear',C=1.5,random_state = 42,probability=True)),\n",
    "                                  #('clf3',RandomForestClassifier(n_estimators = 600,random_state = 42))\n",
    " #                                ], \n",
    "  #                                  voting='soft', weights = [1,1]) \n",
    "classifier = SVC(C=100, # penalty parameter\n",
    "\t \t\t\t kernel='rbf', # kernel type, rbf working fine here\n",
    "\t \t\t\t degree=3, # default value\n",
    "\t \t\t\t gamma=1, # kernel coefficient\n",
    "\t \t\t\t coef0=1, # change to 1 from default value of 0.0\n",
    "\t \t\t\t shrinking=True, # using shrinking heuristics\n",
    "\t \t\t\t tol=0.001, # stopping criterion tolerance \n",
    "\t      \t\t probability=False, # no need to enable probability estimates\n",
    "\t      \t\t cache_size=200, # 200 MB cache size\n",
    "\t      \t\t class_weight=None, # all classes are treated equally \n",
    "\t      \t\t verbose=False, # print the logs \n",
    "\t      \t\t max_iter=-1, # no limit, let it run\n",
    "          \t\t decision_function_shape=None, # will use one vs rest explicitly \n",
    "          \t\t random_state=None)\n",
    "model = OneVsRestClassifier(classifier)\n",
    "#model=SVC(C=1.5, kernel='linear')\n",
    "#model=LogisticRegression(C=5,penalty='l2',random_state = 42)\n",
    "#model=RandomForestClassifier(n_estimators = 100,random_state = 42)\n",
    "folds = 3\n",
    "\n",
    "skf = StratifiedKFold(n_splits=folds, shuffle = True, random_state = 1001)\n",
    "\n",
    "for train_index, test_index in skf.split(train_X, train_Y):\n",
    "    X_train, X_test = train_X[train_index], train_X[test_index]\n",
    "    y_train, y_test = train_Y[train_index], train_Y[test_index]\n",
    "    model.fit(X_train,y_train)\n",
    "    train_pred = model.predict(X_train)\n",
    "    test_pred = model.predict(X_test)\n",
    "    \n",
    "    print (\"Accuracy : %.4g\" % accuracy_score(y_train,train_pred))\n",
    "    print (\"Accuracy : %.4g\" % accuracy_score(y_test,test_pred))"
   ]
  },
  {
   "cell_type": "code",
   "execution_count": 455,
   "metadata": {},
   "outputs": [
    {
     "name": "stderr",
     "output_type": "stream",
     "text": [
      "/Users/sangam/anaconda3/lib/python3.6/site-packages/sklearn/preprocessing/label.py:151: DeprecationWarning: The truth value of an empty array is ambiguous. Returning False, but in future this will result in an error. Use `array.size > 0` to check that an array is not empty.\n",
      "  if diff:\n",
      "/Users/sangam/anaconda3/lib/python3.6/site-packages/sklearn/preprocessing/label.py:151: DeprecationWarning: The truth value of an empty array is ambiguous. Returning False, but in future this will result in an error. Use `array.size > 0` to check that an array is not empty.\n",
      "  if diff:\n",
      "/Users/sangam/anaconda3/lib/python3.6/site-packages/sklearn/preprocessing/label.py:151: DeprecationWarning: The truth value of an empty array is ambiguous. Returning False, but in future this will result in an error. Use `array.size > 0` to check that an array is not empty.\n",
      "  if diff:\n"
     ]
    }
   ],
   "source": [
    "from sklearn.model_selection import train_test_split\n",
    "from sklearn.metrics import confusion_matrix\n",
    "classifier = SVC(C=100, # penalty parameter\n",
    "\t \t\t\t kernel='rbf', # kernel type, rbf working fine here\n",
    "\t \t\t\t degree=3, # default value\n",
    "\t \t\t\t gamma=1, # kernel coefficient\n",
    "\t \t\t\t coef0=1, # change to 1 from default value of 0.0\n",
    "\t \t\t\t shrinking=True, # using shrinking heuristics\n",
    "\t \t\t\t tol=0.001, # stopping criterion tolerance \n",
    "\t      \t\t probability=False, # no need to enable probability estimates\n",
    "\t      \t\t cache_size=200, # 200 MB cache size\n",
    "\t      \t\t class_weight=None, # all classes are treated equally \n",
    "\t      \t\t verbose=False, # print the logs \n",
    "\t      \t\t max_iter=-1, # no limit, let it run\n",
    "          \t\t decision_function_shape=None, # will use one vs rest explicitly \n",
    "          \t\t random_state=None)\n",
    "model = OneVsRestClassifier(classifier)\n",
    "X_train,X_test,y_train,y_test = train_test_split(train_X, train_Y,test_size=0.2)\n",
    "model.fit(X_train,y_train)\n",
    "y_pred = model.predict(X_test)\n",
    "y_pred=lb.inverse_transform(y_pred)\n",
    "y_test=lb.inverse_transform(y_test)\n",
    "y_train=lb.inverse_transform(y_train)\n",
    "a=confusion_matrix(y_test, y_pred,labels=['brazilian',\n",
    " 'british',\n",
    " 'cajun_creole',\n",
    " 'chinese',\n",
    " 'filipino',\n",
    " 'french',\n",
    " 'greek',\n",
    " 'indian',\n",
    " 'irish',\n",
    " 'italian',\n",
    " 'jamaican',\n",
    " 'japanese',\n",
    " 'korean',\n",
    " 'mexican',\n",
    " 'moroccan',\n",
    " 'russian',\n",
    " 'southern_us',\n",
    " 'spanish',\n",
    " 'thai',\n",
    " 'vietnamese'])\n",
    "a=pd.DataFrame(a)\n",
    "a.to_csv('sv_confusion_matrix.csv')"
   ]
  },
  {
   "cell_type": "code",
   "execution_count": 541,
   "metadata": {},
   "outputs": [],
   "source": [
    "cuisine_sim={}\n",
    "cuis_1=['chinese','japanese','korean','thai','vietnamese','filipino']\n",
    "cuis_2=['greek','italian','french','spanish','brazilian']\n",
    "cuis_3=['british','russian','irish']\n",
    "cuis_4=['jamaican','cajun_creole','mexican','southern_us']\n",
    "cuis_5=['indian','moroccan']\n",
    "for val in cuis_1:\n",
    "    cuisine_sim[val]=1\n",
    "for val in cuis_2:\n",
    "    cuisine_sim[val]=2\n",
    "for val in cuis_3:\n",
    "    cuisine_sim[val]=3\n",
    "for val in cuis_4:\n",
    "    cuisine_sim[val]=4\n",
    "for val in cuis_5:\n",
    "    cuisine_sim[val]=5"
   ]
  },
  {
   "cell_type": "code",
   "execution_count": 537,
   "metadata": {},
   "outputs": [
    {
     "name": "stdout",
     "output_type": "stream",
     "text": [
      "0.834332191780822\n",
      "0.9039292109975772\n",
      "0.8133561643835616\n"
     ]
    }
   ],
   "source": [
    "col=['chinese','japanese','korean','thai','vietnamese','filipino','indian','moroccan']\n",
    "\n",
    "print(accuracy_score(y_test[np.isin(y_pred,col)],\n",
    "               y_pred[np.isin(y_pred,col)]))\n",
    "south_asian=X_train[np.isin(y_train,col)]\n",
    "south_asian_y=y_train[np.isin(y_train,col)]\n",
    "south_asian_test=X_test[np.isin(y_pred,col)]\n",
    "south_asian_test_y=y_test[np.isin(y_pred,col)]\n",
    "south_asian_test_y = lb.transform(south_asian_test_y)\n",
    "south_asian_y = lb.transform(south_asian_y)\n",
    "lr_sa=LogisticRegression(C=6,penalty='l2',random_state = 42)\n",
    "svc=SVC(kernel='linear',C=1.5,random_state = 42)\n",
    "classifier = SVC(C=100, # penalty parameter\n",
    "\t \t\t\t kernel='rbf', # kernel type, rbf working fine here\n",
    "\t \t\t\t degree=3, # default value\n",
    "\t \t\t\t gamma=1, # kernel coefficient\n",
    "\t \t\t\t coef0=1, # change to 1 from default value of 0.0\n",
    "\t \t\t\t shrinking=True, # using shrinking heuristics\n",
    "\t \t\t\t tol=0.001, # stopping criterion tolerance \n",
    "\t      \t\t probability=False, # no need to enable probability estimates\n",
    "\t      \t\t cache_size=200, # 200 MB cache size\n",
    "\t      \t\t class_weight=None, # all classes are treated equally \n",
    "\t      \t\t verbose=False, # print the logs \n",
    "\t      \t\t max_iter=-1, # no limit, let it run\n",
    "          \t\t decision_function_shape=None, # will use one vs rest explicitly \n",
    "          \t\t random_state=None)\n",
    "ovr = OneVsRestClassifier(classifier)\n",
    "rf=RandomForestClassifier(n_estimators = 10,random_state = 42)        \n",
    "#south_asian_y = lb.transform(south_asian_y)\n",
    "svc.fit(south_asian,south_asian_y)\n",
    "y_pred_sa = svc.predict(south_asian_test)\n",
    "y_sa = svc.predict(south_asian)\n",
    "\n",
    "print(accuracy_score(south_asian_y,y_sa))\n",
    "print(accuracy_score(south_asian_test_y,y_pred_sa))\n"
   ]
  },
  {
   "cell_type": "code",
   "execution_count": 510,
   "metadata": {},
   "outputs": [
    {
     "data": {
      "text/plain": [
       "array(['mexican', 'spanish', 'southern_us', ..., 'mexican', 'mexican',\n",
       "       'mexican'], dtype=object)"
      ]
     },
     "execution_count": 510,
     "metadata": {},
     "output_type": "execute_result"
    }
   ],
   "source": [
    "X_train,X_test,y_train,y_test"
   ]
  },
  {
   "cell_type": "code",
   "execution_count": 495,
   "metadata": {},
   "outputs": [
    {
     "name": "stdout",
     "output_type": "stream",
     "text": [
      "0.8143306096794469\n"
     ]
    }
   ],
   "source": [
    "print(accuracy_score(y_test,y_pred))"
   ]
  },
  {
   "cell_type": "code",
   "execution_count": 506,
   "metadata": {},
   "outputs": [
    {
     "data": {
      "image/png": "[encoded data removed]",
      "text/plain": [
       "<Figure size 720x504 with 2 Axes>"
      ]
     },
     "metadata": {},
     "output_type": "display_data"
    }
   ],
   "source": [
    "sns.set(style=\"white\")\n",
    "a=confusion_matrix(y_test,y_pred)\n",
    "print_confusion_matrix(a,['brazilian',\n",
    " 'british',\n",
    " 'cajun_creole',\n",
    " 'chinese',\n",
    " 'filipino',\n",
    " 'french',\n",
    " 'greek',\n",
    " 'indian',\n",
    " 'irish',\n",
    " 'italian',\n",
    " 'jamaican',\n",
    " 'japanese',\n",
    " 'korean',\n",
    " 'mexican',\n",
    " 'moroccan',\n",
    " 'russian',\n",
    " 'southern_us',\n",
    " 'spanish',\n",
    " 'thai',\n",
    " 'vietnamese'])\n",
    "a=np.where(a>20,1,0)\n",
    "comp=connected_components(a)"
   ]
  },
  {
   "cell_type": "code",
   "execution_count": 507,
   "metadata": {},
   "outputs": [],
   "source": [
    "value=comp[1]\n",
    "keys=['brazilian',\n",
    " 'british',\n",
    " 'cajun_creole',\n",
    " 'chinese',\n",
    " 'filipino',\n",
    " 'french',\n",
    " 'greek',\n",
    " 'indian',\n",
    " 'irish',\n",
    " 'italian',\n",
    " 'jamaican',\n",
    " 'japanese',\n",
    " 'korean',\n",
    " 'mexican',\n",
    " 'moroccan',\n",
    " 'russian',\n",
    " 'southern_us',\n",
    " 'spanish',\n",
    " 'thai',\n",
    " 'vietnamese']\n",
    "\n",
    "sim = dict(zip(keys, value))"
   ]
  },
  {
   "cell_type": "code",
   "execution_count": 548,
   "metadata": {},
   "outputs": [
    {
     "data": {
      "text/plain": [
       "{'chinese': 1,\n",
       " 'japanese': 1,\n",
       " 'korean': 1,\n",
       " 'thai': 1,\n",
       " 'vietnamese': 1,\n",
       " 'filipino': 1,\n",
       " 'greek': 2,\n",
       " 'italian': 2,\n",
       " 'french': 2,\n",
       " 'spanish': 2,\n",
       " 'brazilian': 2,\n",
       " 'british': 3,\n",
       " 'russian': 3,\n",
       " 'irish': 3,\n",
       " 'jamaican': 4,\n",
       " 'cajun_creole': 4,\n",
       " 'mexican': 4,\n",
       " 'southern_us': 4,\n",
       " 'indian': 5,\n",
       " 'moroccan': 5}"
      ]
     },
     "execution_count": 548,
     "metadata": {},
     "output_type": "execute_result"
    }
   ],
   "source": [
    "cuisine_sim"
   ]
  },
  {
   "cell_type": "code",
   "execution_count": 547,
   "metadata": {},
   "outputs": [
    {
     "name": "stdout",
     "output_type": "stream",
     "text": [
      "0.9998114334202834\n",
      "0.9054682589566311\n"
     ]
    }
   ],
   "source": [
    "train_connected=np.vectorize(cuisine_sim.get)(y_train)\n",
    "test_connected=np.vectorize(cuisine_sim.get)(y_test)\n",
    "svc=SVC(kernel='linear',C=1.5,random_state = 42)\n",
    "classifier = SVC(C=100, # penalty parameter\n",
    "\t \t\t\t kernel='rbf', # kernel type, rbf working fine here\n",
    "\t \t\t\t degree=3, # default value\n",
    "\t \t\t\t gamma=1, # kernel coefficient\n",
    "\t \t\t\t coef0=1, # change to 1 from default value of 0.0\n",
    "\t \t\t\t shrinking=True, # using shrinking heuristics\n",
    "\t \t\t\t tol=0.001, # stopping criterion tolerance \n",
    "\t      \t\t probability=False, # no need to enable probability estimates\n",
    "\t      \t\t cache_size=200, # 200 MB cache size\n",
    "\t      \t\t class_weight=None, # all classes are treated equally \n",
    "\t      \t\t verbose=False, # print the logs \n",
    "\t      \t\t max_iter=-1, # no limit, let it run\n",
    "          \t\t decision_function_shape=None, # will use one vs rest explicitly \n",
    "          \t\t random_state=None)\n",
    "ovr = OneVsRestClassifier(classifier)\n",
    "lr_sa=LogisticRegression(C=10,penalty='l2',random_state = 42)\n",
    "\n",
    "ovr.fit(X_train,train_connected)\n",
    "\n",
    "print(accuracy_score(ovr.predict(X_train),train_connected))\n",
    "print(accuracy_score(ovr.predict(X_test),test_connected))"
   ]
  },
  {
   "cell_type": "code",
   "execution_count": 542,
   "metadata": {},
   "outputs": [
    {
     "name": "stdout",
     "output_type": "stream",
     "text": [
      "0.9058453802639849\n"
     ]
    }
   ],
   "source": [
    "print(accuracy_score(np.vectorize(cuisine_sim.get)(y_pred),np.vectorize(cuisine_sim.get)(y_test)))"
   ]
  },
  {
   "cell_type": "code",
   "execution_count": 570,
   "metadata": {},
   "outputs": [
    {
     "name": "stderr",
     "output_type": "stream",
     "text": [
      "/Users/sangam/anaconda3/lib/python3.6/site-packages/sklearn/preprocessing/label.py:151: DeprecationWarning: The truth value of an empty array is ambiguous. Returning False, but in future this will result in an error. Use `array.size > 0` to check that an array is not empty.\n",
      "  if diff:\n",
      "/Users/sangam/anaconda3/lib/python3.6/site-packages/sklearn/preprocessing/label.py:151: DeprecationWarning: The truth value of an empty array is ambiguous. Returning False, but in future this will result in an error. Use `array.size > 0` to check that an array is not empty.\n",
      "  if diff:\n",
      "/Users/sangam/anaconda3/lib/python3.6/site-packages/sklearn/preprocessing/label.py:151: DeprecationWarning: The truth value of an empty array is ambiguous. Returning False, but in future this will result in an error. Use `array.size > 0` to check that an array is not empty.\n",
      "  if diff:\n",
      "/Users/sangam/anaconda3/lib/python3.6/site-packages/sklearn/preprocessing/label.py:151: DeprecationWarning: The truth value of an empty array is ambiguous. Returning False, but in future this will result in an error. Use `array.size > 0` to check that an array is not empty.\n",
      "  if diff:\n",
      "/Users/sangam/anaconda3/lib/python3.6/site-packages/sklearn/preprocessing/label.py:151: DeprecationWarning: The truth value of an empty array is ambiguous. Returning False, but in future this will result in an error. Use `array.size > 0` to check that an array is not empty.\n",
      "  if diff:\n"
     ]
    }
   ],
   "source": [
    "df={'ovr_1':lb.inverse_transform(ovr1.predict(X_test)),\n",
    "    'ovr_2':lb.inverse_transform(ovr2.predict(X_test)),\n",
    "    'ovr_3':lb.inverse_transform(ovr3.predict(X_test)),\n",
    "    'ovr_4':lb.inverse_transform(ovr4.predict(X_test)),\n",
    "    'ovr_5':lb.inverse_transform(ovr5.predict(X_test)),\n",
    "    'actual':y_test,\n",
    "    'old_model':y_pred\n",
    "   }\n",
    "df = pd.DataFrame(data=df)\n",
    "df['old_model_key']=df['old_model'].map(cuisine_sim)\n",
    "def final_output (row):\n",
    "    col='ovr_'+str(row['old_model_key'])\n",
    "    return row[col]\n",
    "df['final_cuisine']=df.apply (lambda row: final_output (row),axis=1)"
   ]
  },
  {
   "cell_type": "code",
   "execution_count": 579,
   "metadata": {},
   "outputs": [
    {
     "data": {
      "text/plain": [
       "0.8143306096794469"
      ]
     },
     "execution_count": 579,
     "metadata": {},
     "output_type": "execute_result"
    }
   ],
   "source": [
    "accuracy_score(df['old_model'],df['actual'])"
   ]
  },
  {
   "cell_type": "code",
   "execution_count": 606,
   "metadata": {},
   "outputs": [
    {
     "data": {
      "text/plain": [
       "0.8163419233186675"
      ]
     },
     "execution_count": 606,
     "metadata": {},
     "output_type": "execute_result"
    }
   ],
   "source": [
    "accuracy_score(df['final_cuisine'],df['actual'])"
   ]
  },
  {
   "cell_type": "code",
   "execution_count": 586,
   "metadata": {},
   "outputs": [
    {
     "data": {
      "text/html": [
       "<div>\n",
       "<style scoped>\n",
       "    .dataframe tbody tr th:only-of-type {\n",
       "        vertical-align: middle;\n",
       "    }\n",
       "\n",
       "    .dataframe tbody tr th {\n",
       "        vertical-align: top;\n",
       "    }\n",
       "\n",
       "    .dataframe thead th {\n",
       "        text-align: right;\n",
       "    }\n",
       "</style>\n",
       "<table border=\"1\" class=\"dataframe\">\n",
       "  <thead>\n",
       "    <tr style=\"text-align: right;\">\n",
       "      <th></th>\n",
       "      <th>ovr_1</th>\n",
       "      <th>ovr_2</th>\n",
       "      <th>ovr_3</th>\n",
       "      <th>ovr_4</th>\n",
       "      <th>ovr_5</th>\n",
       "      <th>actual</th>\n",
       "      <th>old_model</th>\n",
       "      <th>old_model_key</th>\n",
       "    </tr>\n",
       "  </thead>\n",
       "  <tbody>\n",
       "    <tr>\n",
       "      <th>0</th>\n",
       "      <td>filipino</td>\n",
       "      <td>italian</td>\n",
       "      <td>irish</td>\n",
       "      <td>mexican</td>\n",
       "      <td>indian</td>\n",
       "      <td>mexican</td>\n",
       "      <td>mexican</td>\n",
       "      <td>4</td>\n",
       "    </tr>\n",
       "    <tr>\n",
       "      <th>1</th>\n",
       "      <td>chinese</td>\n",
       "      <td>spanish</td>\n",
       "      <td>british</td>\n",
       "      <td>southern_us</td>\n",
       "      <td>indian</td>\n",
       "      <td>spanish</td>\n",
       "      <td>spanish</td>\n",
       "      <td>2</td>\n",
       "    </tr>\n",
       "    <tr>\n",
       "      <th>2</th>\n",
       "      <td>japanese</td>\n",
       "      <td>french</td>\n",
       "      <td>british</td>\n",
       "      <td>southern_us</td>\n",
       "      <td>indian</td>\n",
       "      <td>southern_us</td>\n",
       "      <td>southern_us</td>\n",
       "      <td>4</td>\n",
       "    </tr>\n",
       "    <tr>\n",
       "      <th>3</th>\n",
       "      <td>vietnamese</td>\n",
       "      <td>italian</td>\n",
       "      <td>russian</td>\n",
       "      <td>mexican</td>\n",
       "      <td>indian</td>\n",
       "      <td>mexican</td>\n",
       "      <td>mexican</td>\n",
       "      <td>4</td>\n",
       "    </tr>\n",
       "    <tr>\n",
       "      <th>4</th>\n",
       "      <td>filipino</td>\n",
       "      <td>greek</td>\n",
       "      <td>russian</td>\n",
       "      <td>mexican</td>\n",
       "      <td>indian</td>\n",
       "      <td>greek</td>\n",
       "      <td>greek</td>\n",
       "      <td>2</td>\n",
       "    </tr>\n",
       "  </tbody>\n",
       "</table>\n",
       "</div>"
      ],
      "text/plain": [
       "        ovr_1    ovr_2    ovr_3        ovr_4   ovr_5       actual  \\\n",
       "0    filipino  italian    irish      mexican  indian      mexican   \n",
       "1     chinese  spanish  british  southern_us  indian      spanish   \n",
       "2    japanese   french  british  southern_us  indian  southern_us   \n",
       "3  vietnamese  italian  russian      mexican  indian      mexican   \n",
       "4    filipino    greek  russian      mexican  indian        greek   \n",
       "\n",
       "     old_model  old_model_key  \n",
       "0      mexican              4  \n",
       "1      spanish              2  \n",
       "2  southern_us              4  \n",
       "3      mexican              4  \n",
       "4        greek              2  "
      ]
     },
     "execution_count": 586,
     "metadata": {},
     "output_type": "execute_result"
    }
   ],
   "source": [
    "df['final_cuisine']=df['ovr_%s']"
   ]
  },
  {
   "cell_type": "code",
   "execution_count": 565,
   "metadata": {},
   "outputs": [
    {
     "name": "stdout",
     "output_type": "stream",
     "text": [
      "0.8198198198198198\n",
      "0.999688909628247\n",
      "0.8198198198198198\n"
     ]
    }
   ],
   "source": [
    "col=[]\n",
    "\n",
    "for key, value in cuisine_sim.items():    # for name, age in dictionary.iteritems():  (for Python 2.x)\n",
    "    if value == 1:\n",
    "        col.append(key)\n",
    "\n",
    "print(accuracy_score(y_test[np.isin(y_pred,col)],\n",
    "               y_pred[np.isin(y_pred,col)]))\n",
    "south_asian=X_train[np.isin(y_train,col)]\n",
    "south_asian_y=y_train[np.isin(y_train,col)]\n",
    "south_asian_test=X_test[np.isin(y_pred,col)]\n",
    "south_asian_test_y=y_test[np.isin(y_pred,col)]\n",
    "south_asian_test_y = lb.transform(south_asian_test_y)\n",
    "south_asian_y = lb.transform(south_asian_y)\n",
    "lr_sa=LogisticRegression(C=6,penalty='l2',random_state = 42)\n",
    "svc=SVC(kernel='linear',C=1,random_state = 42)\n",
    "classifier = SVC(C=100, # penalty parameter\n",
    "\t \t\t\t kernel='rbf', # kernel type, rbf working fine here\n",
    "\t \t\t\t degree=3, # default value\n",
    "\t \t\t\t gamma=1, # kernel coefficient\n",
    "\t \t\t\t coef0=1, # change to 1 from default value of 0.0\n",
    "\t \t\t\t shrinking=True, # using shrinking heuristics\n",
    "\t \t\t\t tol=0.001, # stopping criterion tolerance \n",
    "\t      \t\t probability=False, # no need to enable probability estimates\n",
    "\t      \t\t cache_size=200, # 200 MB cache size\n",
    "\t      \t\t class_weight=None, # all classes are treated equally \n",
    "\t      \t\t verbose=False, # print the logs \n",
    "\t      \t\t max_iter=-1, # no limit, let it run\n",
    "          \t\t decision_function_shape=None, # will use one vs rest explicitly \n",
    "          \t\t random_state=None)\n",
    "ovr1 = OneVsRestClassifier(classifier)\n",
    "rf=RandomForestClassifier(n_estimators = 10,random_state = 42)        \n",
    "#south_asian_y = lb.transform(south_asian_y)\n",
    "ovr1.fit(south_asian,south_asian_y)\n",
    "y_pred_sa = ovr1.predict(south_asian_test)\n",
    "y_sa = ovr1.predict(south_asian)\n",
    "\n",
    "print(accuracy_score(south_asian_y,y_sa))\n",
    "print(accuracy_score(south_asian_test_y,y_pred_sa))\n",
    "\n",
    "\n"
   ]
  },
  {
   "cell_type": "code",
   "execution_count": 564,
   "metadata": {},
   "outputs": [
    {
     "name": "stdout",
     "output_type": "stream",
     "text": [
      "0.792962962962963\n",
      "0.9998087222647284\n",
      "0.7951851851851852\n"
     ]
    }
   ],
   "source": [
    "col=[]\n",
    "\n",
    "for key, value in cuisine_sim.items():    # for name, age in dictionary.iteritems():  (for Python 2.x)\n",
    "    if value == 2:\n",
    "        col.append(key)\n",
    "\n",
    "print(accuracy_score(y_test[np.isin(y_pred,col)],\n",
    "               y_pred[np.isin(y_pred,col)]))\n",
    "south_asian=X_train[np.isin(y_train,col)]\n",
    "south_asian_y=y_train[np.isin(y_train,col)]\n",
    "south_asian_test=X_test[np.isin(y_pred,col)]\n",
    "south_asian_test_y=y_test[np.isin(y_pred,col)]\n",
    "south_asian_test_y = lb.transform(south_asian_test_y)\n",
    "south_asian_y = lb.transform(south_asian_y)\n",
    "lr_sa=LogisticRegression(C=6,penalty='l2',random_state = 42)\n",
    "svc=SVC(kernel='linear',C=1,random_state = 42)\n",
    "classifier = SVC(C=100, # penalty parameter\n",
    "\t \t\t\t kernel='rbf', # kernel type, rbf working fine here\n",
    "\t \t\t\t degree=3, # default value\n",
    "\t \t\t\t gamma=1, # kernel coefficient\n",
    "\t \t\t\t coef0=1, # change to 1 from default value of 0.0\n",
    "\t \t\t\t shrinking=True, # using shrinking heuristics\n",
    "\t \t\t\t tol=0.001, # stopping criterion tolerance \n",
    "\t      \t\t probability=False, # no need to enable probability estimates\n",
    "\t      \t\t cache_size=200, # 200 MB cache size\n",
    "\t      \t\t class_weight=None, # all classes are treated equally \n",
    "\t      \t\t verbose=False, # print the logs \n",
    "\t      \t\t max_iter=-1, # no limit, let it run\n",
    "          \t\t decision_function_shape=None, # will use one vs rest explicitly \n",
    "          \t\t random_state=None)\n",
    "ovr2 = OneVsRestClassifier(classifier)\n",
    "rf=RandomForestClassifier(n_estimators = 10,random_state = 42)        \n",
    "#south_asian_y = lb.transform(south_asian_y)\n",
    "ovr2.fit(south_asian,south_asian_y)\n",
    "y_pred_sa = ovr2.predict(south_asian_test)\n",
    "y_sa = ovr2.predict(south_asian)\n",
    "\n",
    "print(accuracy_score(south_asian_y,y_sa))\n",
    "print(accuracy_score(south_asian_test_y,y_pred_sa))\n",
    "\n"
   ]
  },
  {
   "cell_type": "code",
   "execution_count": 561,
   "metadata": {},
   "outputs": [
    {
     "name": "stdout",
     "output_type": "stream",
     "text": [
      "0.668769716088328\n",
      "1.0\n",
      "0.6719242902208202\n"
     ]
    }
   ],
   "source": [
    "col=[]\n",
    "\n",
    "for key, value in cuisine_sim.items():    # for name, age in dictionary.iteritems():  (for Python 2.x)\n",
    "    if value == 3:\n",
    "        col.append(key)\n",
    "\n",
    "print(accuracy_score(y_test[np.isin(y_pred,col)],\n",
    "               y_pred[np.isin(y_pred,col)]))\n",
    "south_asian=X_train[np.isin(y_train,col)]\n",
    "south_asian_y=y_train[np.isin(y_train,col)]\n",
    "south_asian_test=X_test[np.isin(y_pred,col)]\n",
    "south_asian_test_y=y_test[np.isin(y_pred,col)]\n",
    "south_asian_test_y = lb.transform(south_asian_test_y)\n",
    "south_asian_y = lb.transform(south_asian_y)\n",
    "lr_sa=LogisticRegression(C=6,penalty='l2',random_state = 42)\n",
    "svc=SVC(kernel='linear',C=1,random_state = 42)\n",
    "classifier = SVC(C=100, # penalty parameter\n",
    "\t \t\t\t kernel='rbf', # kernel type, rbf working fine here\n",
    "\t \t\t\t degree=3, # default value\n",
    "\t \t\t\t gamma=1, # kernel coefficient\n",
    "\t \t\t\t coef0=1, # change to 1 from default value of 0.0\n",
    "\t \t\t\t shrinking=True, # using shrinking heuristics\n",
    "\t \t\t\t tol=0.001, # stopping criterion tolerance \n",
    "\t      \t\t probability=False, # no need to enable probability estimates\n",
    "\t      \t\t cache_size=200, # 200 MB cache size\n",
    "\t      \t\t class_weight=None, # all classes are treated equally \n",
    "\t      \t\t verbose=False, # print the logs \n",
    "\t      \t\t max_iter=-1, # no limit, let it run\n",
    "          \t\t decision_function_shape=None, # will use one vs rest explicitly \n",
    "          \t\t random_state=None)\n",
    "ovr3 = OneVsRestClassifier(classifier)\n",
    "rf=RandomForestClassifier(n_estimators = 10,random_state = 42)        \n",
    "#south_asian_y = lb.transform(south_asian_y)\n",
    "ovr3.fit(south_asian,south_asian_y)\n",
    "y_pred_sa = ovr3.predict(south_asian_test)\n",
    "y_sa = ovr3.predict(south_asian)\n",
    "\n",
    "print(accuracy_score(south_asian_y,y_sa))\n",
    "print(accuracy_score(south_asian_test_y,y_pred_sa))\n",
    "\n",
    "\n"
   ]
  },
  {
   "cell_type": "code",
   "execution_count": 562,
   "metadata": {},
   "outputs": [
    {
     "name": "stdout",
     "output_type": "stream",
     "text": [
      "0.8362797847809378\n",
      "0.9999029597282872\n",
      "0.8385857033051499\n"
     ]
    }
   ],
   "source": [
    "col=[]\n",
    "\n",
    "for key, value in cuisine_sim.items():    # for name, age in dictionary.iteritems():  (for Python 2.x)\n",
    "    if value == 4:\n",
    "        col.append(key)\n",
    "\n",
    "print(accuracy_score(y_test[np.isin(y_pred,col)],\n",
    "               y_pred[np.isin(y_pred,col)]))\n",
    "south_asian=X_train[np.isin(y_train,col)]\n",
    "south_asian_y=y_train[np.isin(y_train,col)]\n",
    "south_asian_test=X_test[np.isin(y_pred,col)]\n",
    "south_asian_test_y=y_test[np.isin(y_pred,col)]\n",
    "south_asian_test_y = lb.transform(south_asian_test_y)\n",
    "south_asian_y = lb.transform(south_asian_y)\n",
    "lr_sa=LogisticRegression(C=6,penalty='l2',random_state = 42)\n",
    "svc=SVC(kernel='linear',C=1,random_state = 42)\n",
    "classifier = SVC(C=100, # penalty parameter\n",
    "\t \t\t\t kernel='rbf', # kernel type, rbf working fine here\n",
    "\t \t\t\t degree=3, # default value\n",
    "\t \t\t\t gamma=1, # kernel coefficient\n",
    "\t \t\t\t coef0=1, # change to 1 from default value of 0.0\n",
    "\t \t\t\t shrinking=True, # using shrinking heuristics\n",
    "\t \t\t\t tol=0.001, # stopping criterion tolerance \n",
    "\t      \t\t probability=False, # no need to enable probability estimates\n",
    "\t      \t\t cache_size=200, # 200 MB cache size\n",
    "\t      \t\t class_weight=None, # all classes are treated equally \n",
    "\t      \t\t verbose=False, # print the logs \n",
    "\t      \t\t max_iter=-1, # no limit, let it run\n",
    "          \t\t decision_function_shape=None, # will use one vs rest explicitly \n",
    "          \t\t random_state=None)\n",
    "ovr4 = OneVsRestClassifier(classifier)\n",
    "rf=RandomForestClassifier(n_estimators = 10,random_state = 42)        \n",
    "#south_asian_y = lb.transform(south_asian_y)\n",
    "ovr4.fit(south_asian,south_asian_y)\n",
    "y_pred_sa = ovr4.predict(south_asian_test)\n",
    "y_sa = ovr4.predict(south_asian)\n",
    "\n",
    "print(accuracy_score(south_asian_y,y_sa))\n",
    "print(accuracy_score(south_asian_test_y,y_pred_sa))"
   ]
  },
  {
   "cell_type": "code",
   "execution_count": 563,
   "metadata": {},
   "outputs": [
    {
     "name": "stdout",
     "output_type": "stream",
     "text": [
      "0.8631713554987213\n",
      "1.0\n",
      "0.8670076726342711\n"
     ]
    }
   ],
   "source": [
    "col=[]\n",
    "\n",
    "for key, value in cuisine_sim.items():    # for name, age in dictionary.iteritems():  (for Python 2.x)\n",
    "    if value == 5:\n",
    "        col.append(key)\n",
    "\n",
    "print(accuracy_score(y_test[np.isin(y_pred,col)],\n",
    "               y_pred[np.isin(y_pred,col)]))\n",
    "south_asian=X_train[np.isin(y_train,col)]\n",
    "south_asian_y=y_train[np.isin(y_train,col)]\n",
    "south_asian_test=X_test[np.isin(y_pred,col)]\n",
    "south_asian_test_y=y_test[np.isin(y_pred,col)]\n",
    "south_asian_test_y = lb.transform(south_asian_test_y)\n",
    "south_asian_y = lb.transform(south_asian_y)\n",
    "lr_sa=LogisticRegression(C=6,penalty='l2',random_state = 42)\n",
    "svc=SVC(kernel='linear',C=1,random_state = 42)\n",
    "classifier = SVC(C=100, # penalty parameter\n",
    "\t \t\t\t kernel='rbf', # kernel type, rbf working fine here\n",
    "\t \t\t\t degree=3, # default value\n",
    "\t \t\t\t gamma=1, # kernel coefficient\n",
    "\t \t\t\t coef0=1, # change to 1 from default value of 0.0\n",
    "\t \t\t\t shrinking=True, # using shrinking heuristics\n",
    "\t \t\t\t tol=0.001, # stopping criterion tolerance \n",
    "\t      \t\t probability=False, # no need to enable probability estimates\n",
    "\t      \t\t cache_size=200, # 200 MB cache size\n",
    "\t      \t\t class_weight=None, # all classes are treated equally \n",
    "\t      \t\t verbose=False, # print the logs \n",
    "\t      \t\t max_iter=-1, # no limit, let it run\n",
    "          \t\t decision_function_shape=None, # will use one vs rest explicitly \n",
    "          \t\t random_state=None)\n",
    "ovr5 = OneVsRestClassifier(classifier)\n",
    "rf=RandomForestClassifier(n_estimators = 10,random_state = 42)        \n",
    "#south_asian_y = lb.transform(south_asian_y)\n",
    "ovr5.fit(south_asian,south_asian_y)\n",
    "y_pred_sa = ovr5.predict(south_asian_test)\n",
    "y_sa = ovr5.predict(south_asian)\n",
    "\n",
    "print(accuracy_score(south_asian_y,y_sa))\n",
    "print(accuracy_score(south_asian_test_y,y_pred_sa))"
   ]
  },
  {
   "cell_type": "code",
   "execution_count": 611,
   "metadata": {},
   "outputs": [
    {
     "data": {
      "text/plain": [
       "OneVsRestClassifier(estimator=SVC(C=100, cache_size=200, class_weight=None, coef0=1,\n",
       "  decision_function_shape=None, degree=3, gamma=1, kernel='rbf',\n",
       "  max_iter=-1, probability=False, random_state=None, shrinking=True,\n",
       "  tol=0.001, verbose=False),\n",
       "          n_jobs=1)"
      ]
     },
     "execution_count": 611,
     "metadata": {},
     "output_type": "execute_result"
    }
   ],
   "source": [
    "ovr.fit(train_X,train_Y)"
   ]
  },
  {
   "cell_type": "code",
   "execution_count": 618,
   "metadata": {},
   "outputs": [
    {
     "data": {
      "text/plain": [
       "['chinese', 'japanese', 'korean', 'thai', 'vietnamese', 'filipino']"
      ]
     },
     "execution_count": 618,
     "metadata": {},
     "output_type": "execute_result"
    }
   ],
   "source": [
    "col"
   ]
  },
  {
   "cell_type": "code",
   "execution_count": 625,
   "metadata": {},
   "outputs": [
    {
     "name": "stdout",
     "output_type": "stream",
     "text": [
      "5\n"
     ]
    }
   ],
   "source": [
    "for i in range(1,6):\n",
    "    col=[]\n",
    "    for key, value in cuisine_sim.items():    # for name, age in dictionary.iteritems():  (for Python 2.x)\n",
    "        if value == i:\n",
    "            col.append(key)\n",
    "    print (i)\n",
    "    x=train_X[np.isin(train_Y,col)]\n",
    "    y=train_Y[np.isin(train_Y,col)]\n",
    "    exec(\"ovr_%s=OneVsRestClassifier(classifier)\" %(i))\n",
    "    exec(\"ovr_%s.fit(x,y)\" %(i))\n",
    "    \n",
    "    "
   ]
  },
  {
   "cell_type": "code",
   "execution_count": 628,
   "metadata": {},
   "outputs": [
    {
     "data": {
      "text/plain": [
       "array(['filipino', 'japanese', 'japanese', ..., 'japanese', 'filipino',\n",
       "       'filipino'], dtype='<U10')"
      ]
     },
     "execution_count": 628,
     "metadata": {},
     "output_type": "execute_result"
    }
   ],
   "source": [
    "ovr_1.predict(test_X)"
   ]
  },
  {
   "cell_type": "code",
   "execution_count": 629,
   "metadata": {},
   "outputs": [
    {
     "name": "stderr",
     "output_type": "stream",
     "text": [
      "/Users/sangam/anaconda3/lib/python3.6/site-packages/sklearn/preprocessing/label.py:151: DeprecationWarning: The truth value of an empty array is ambiguous. Returning False, but in future this will result in an error. Use `array.size > 0` to check that an array is not empty.\n",
      "  if diff:\n"
     ]
    }
   ],
   "source": [
    "df={'ovr_1':ovr_1.predict(test_X),\n",
    "    'ovr_2':ovr_2.predict(test_X),\n",
    "    'ovr_3':ovr_3.predict(test_X),\n",
    "    'ovr_4':ovr_4.predict(test_X),\n",
    "    'ovr_5':ovr_5.predict(test_X),\n",
    "    'old_model':lb.inverse_transform(ovr.predict(test_X))\n",
    "   }\n",
    "df = pd.DataFrame(data=df)\n",
    "df['old_model_key']=df['old_model'].map(cuisine_sim)\n",
    "def final_output (row):\n",
    "    col='ovr_'+str(row['old_model_key'])\n",
    "    return row[col]\n",
    "df['final_cuisine']=df.apply (lambda row: final_output (row),axis=1)\n",
    "results_df = pd.DataFrame(data={'id':testdex, 'cuisine':df['final_cuisine']})\n",
    "results_df.to_csv('ensemble6SVC.csv', index=False)"
   ]
  },
  {
   "cell_type": "code",
   "execution_count": 435,
   "metadata": {},
   "outputs": [
    {
     "name": "stderr",
     "output_type": "stream",
     "text": [
      "/Users/sangam/anaconda3/lib/python3.6/site-packages/sklearn/preprocessing/label.py:151: DeprecationWarning: The truth value of an empty array is ambiguous. Returning False, but in future this will result in an error. Use `array.size > 0` to check that an array is not empty.\n",
      "  if diff:\n",
      "/Users/sangam/anaconda3/lib/python3.6/site-packages/sklearn/preprocessing/label.py:151: DeprecationWarning: The truth value of an empty array is ambiguous. Returning False, but in future this will result in an error. Use `array.size > 0` to check that an array is not empty.\n",
      "  if diff:\n"
     ]
    }
   ],
   "source": [
    "svm_ovr=pd.read_csv('submission-svm-ovr-tuned.csv')\n",
    "train_Y_name=lb.inverse_transform(train_Y)\n",
    "south_asian=train_X[np.isin(train_Y_name,col)]\n",
    "south_asian_y=train_Y_name[np.isin(train_Y_name,col)]\n",
    "south_asian_y=lb.transform(south_asian_y)\n",
    "lr_sa.fit(south_asian, south_asian_y)\n",
    "test_y = lr_sa.predict(test_X)\n",
    "test_y=lb.inverse_transform(test_y)\n",
    "results_df = pd.DataFrame(data={'id':testdex, 'cuisine':test_y})"
   ]
  },
  {
   "cell_type": "code",
   "execution_count": 439,
   "metadata": {},
   "outputs": [],
   "source": [
    "a=pd.merge(svm_ovr,results_df,on='id',how='left',suffixes=['','_sa'])"
   ]
  },
  {
   "cell_type": "code",
   "execution_count": 437,
   "metadata": {},
   "outputs": [],
   "source": [
    "a['cuisine']=np.where(a['cuisine'].isin(col),a['cuisine_sa'],\n",
    "                     a['cuisine'])\n",
    "a[['id','cuisine']].to_csv('cajun_southern_diferent.csv',index=False)"
   ]
  },
  {
   "cell_type": "code",
   "execution_count": 223,
   "metadata": {},
   "outputs": [
    {
     "data": {
      "text/plain": [
       "VotingClassifier(estimators=[('clf1', LogisticRegression(C=5, class_weight=None, dual=False, fit_intercept=True,\n",
       "          intercept_scaling=1, max_iter=100, multi_class='ovr', n_jobs=1,\n",
       "          penalty='l2', random_state=42, solver='liblinear', tol=0.0001,\n",
       "          verbose=0, warm_start=False)), ('clf2', OneVsRe...timators=600, n_jobs=1,\n",
       "            oob_score=False, random_state=42, verbose=0, warm_start=False))],\n",
       "         flatten_transform=None, n_jobs=1, voting='soft',\n",
       "         weights=[1, 1, 1])"
      ]
     },
     "execution_count": 223,
     "metadata": {},
     "output_type": "execute_result"
    }
   ],
   "source": [
    "classifier = SVC(C=100, # penalty parameter\n",
    "                     kernel='rbf', # kernel type, rbf working fine here\n",
    "                     degree=3, # default value\n",
    "                     gamma=1, # kernel coefficient\n",
    "                     coef0=1, # change to 1 from default value of 0.0\n",
    "                     shrinking=True, # using shrinking heuristics\n",
    "                     tol=0.001, # stopping criterion tolerance \n",
    "                     probability=True, # no need to enable probability estimates\n",
    "                     cache_size=200, # 200 MB cache size\n",
    "                     class_weight=None, # all classes are treated equally \n",
    "                     verbose=False, # print the logs \n",
    "                     max_iter=-1, # no limit, let it run\n",
    "                     decision_function_shape=None, # will use one vs rest explicitly \n",
    "                random_state=None)\n",
    "model = OneVsRestClassifier(classifier)\n",
    "vclf=VotingClassifier(estimators=[('clf1',LogisticRegression(C=5,penalty='l2',random_state = 42)),\n",
    "                                 ('clf2',model),\n",
    "                                  ('clf3',RandomForestClassifier(n_estimators = 600,random_state = 42))\n",
    "                                 ], \n",
    "                                    voting='soft', weights = [1,1,1]) \n",
    "vclf.fit(train_X, train_Y)"
   ]
  },
  {
   "cell_type": "code",
   "execution_count": 204,
   "metadata": {},
   "outputs": [
    {
     "name": "stderr",
     "output_type": "stream",
     "text": [
      "/Users/sangam/anaconda3/lib/python3.6/site-packages/sklearn/preprocessing/label.py:151: DeprecationWarning: The truth value of an empty array is ambiguous. Returning False, but in future this will result in an error. Use `array.size > 0` to check that an array is not empty.\n",
      "  if diff:\n"
     ]
    }
   ],
   "source": [
    "y_test = model.predict(test_X)\n",
    "y_test=lb.inverse_transform(y_test)\n",
    "results_df = pd.DataFrame(data={'id':testdex, 'cuisine':y_test})\n",
    "results_df.to_csv('submission-svm-ovr-tuned.csv', index=False)"
   ]
  },
  {
   "cell_type": "code",
   "execution_count": 224,
   "metadata": {},
   "outputs": [
    {
     "name": "stderr",
     "output_type": "stream",
     "text": [
      "/Users/sangam/anaconda3/lib/python3.6/site-packages/sklearn/preprocessing/label.py:151: DeprecationWarning: The truth value of an empty array is ambiguous. Returning False, but in future this will result in an error. Use `array.size > 0` to check that an array is not empty.\n",
      "  if diff:\n",
      "/Users/sangam/anaconda3/lib/python3.6/site-packages/sklearn/preprocessing/label.py:151: DeprecationWarning: The truth value of an empty array is ambiguous. Returning False, but in future this will result in an error. Use `array.size > 0` to check that an array is not empty.\n",
      "  if diff:\n"
     ]
    }
   ],
   "source": [
    "y_test = vclf.predict(test_X)\n",
    "y_test=lb.inverse_transform(y_test)\n",
    "results_df = pd.DataFrame(data={'id':testdex, 'cuisine':y_test})\n",
    "results_df.to_csv('submission-vclf-tuned-ovr-lr-rf.csv', index=False)"
   ]
  },
  {
   "cell_type": "code",
   "execution_count": null,
   "metadata": {},
   "outputs": [],
   "source": []
  }
 ],
 "metadata": {
  "kernelspec": {
   "display_name": "Python 3",
   "language": "python",
   "name": "python3"
  },
  "language_info": {
   "codemirror_mode": {
    "name": "ipython",
    "version": 3
   },
   "file_extension": ".py",
   "mimetype": "text/x-python",
   "name": "python",
   "nbconvert_exporter": "python",
   "pygments_lexer": "ipython3",
   "version": "3.6.5"
  }
 },
 "nbformat": 4,
 "nbformat_minor": 2
}
